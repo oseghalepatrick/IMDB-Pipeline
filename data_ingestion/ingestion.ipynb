{
 "cells": [
  {
   "cell_type": "code",
   "execution_count": 10,
   "id": "971cb253",
   "metadata": {},
   "outputs": [],
   "source": [
    "import numpy as np\n",
    "import pandas as pd\n",
    "import os, glob\n",
    "import pyspark\n",
    "from pyspark.sql import SparkSession, types"
   ]
  },
  {
   "cell_type": "code",
   "execution_count": 2,
   "id": "2912097c",
   "metadata": {
    "scrolled": true
   },
   "outputs": [
    {
     "name": "stderr",
     "output_type": "stream",
     "text": [
      "22/03/31 23:19:09 WARN NativeCodeLoader: Unable to load native-hadoop library for your platform... using builtin-java classes where applicable\n",
      "Using Spark's default log4j profile: org/apache/spark/log4j-defaults.properties\n",
      "Setting default log level to \"WARN\".\n",
      "To adjust logging level use sc.setLogLevel(newLevel). For SparkR, use setLogLevel(newLevel).\n"
     ]
    }
   ],
   "source": [
    "spark = SparkSession.builder \\\n",
    "    .master(\"local[*]\") \\\n",
    "    .appName('test') \\\n",
    "    .getOrCreate()"
   ]
  },
  {
   "cell_type": "code",
   "execution_count": 7,
   "id": "fd5eddab",
   "metadata": {},
   "outputs": [],
   "source": [
    "def read_data(file_name, schema=None):\n",
    "    url = f'https://datasets.imdbws.com/{file_name}.tsv.gz'\n",
    "    spark.sparkContext.addFile(url)\n",
    "    df = spark.read \\\n",
    "            .option('header', 'true') \\\n",
    "            .csv('file://'+pyspark.SparkFiles.get(file_name+'.tsv.gz'), sep='\\t', schema=schema)\n",
    "    df.write.parquet('data/'+file_name, mode='overwrite')"
   ]
  },
  {
   "cell_type": "code",
   "execution_count": 7,
   "id": "f6581ead",
   "metadata": {},
   "outputs": [],
   "source": [
    "title_schema = types.StructType([\n",
    "    types.StructField('titleId',types.StringType(),True),\n",
    "    types.StructField('ordering',types.IntegerType(),True),\n",
    "    types.StructField('title',types.StringType(),True),\n",
    "    types.StructField('region',types.StringType(),True),\n",
    "    types.StructField('language',types.StringType(),True),\n",
    "    types.StructField('types',types.StringType(),True),\n",
    "    types.StructField('attributes',types.StringType(),True),\n",
    "    types.StructField('isOriginalTitle',types.IntegerType(),True)\n",
    "])"
   ]
  },
  {
   "cell_type": "code",
   "execution_count": 8,
   "id": "37a648c1",
   "metadata": {},
   "outputs": [
    {
     "name": "stderr",
     "output_type": "stream",
     "text": [
      "22/03/24 18:30:48 WARN SparkContext: The path https://datasets.imdbws.com/title.akas.tsv.gz has been added already. Overwriting of added paths is not supported in the current version.\n",
      "                                                                                \r"
     ]
    }
   ],
   "source": [
    "title_df = read_data('title.akas', 'data/title.akas', schema=title_schema)"
   ]
  },
  {
   "cell_type": "code",
   "execution_count": 64,
   "id": "f95b3c1b",
   "metadata": {},
   "outputs": [
    {
     "name": "stdout",
     "output_type": "stream",
     "text": [
      "+---------+--------+--------------------+------+--------+-----------+--------------------+---------------+\n",
      "|  titleId|ordering|               title|region|language|      types|          attributes|isOriginalTitle|\n",
      "+---------+--------+--------------------+------+--------+-----------+--------------------+---------------+\n",
      "|tt0000001|       1|          Карменсіта|    UA|      \\N|imdbDisplay|                  \\N|              0|\n",
      "|tt0000001|       2|          Carmencita|    DE|      \\N|         \\N|       literal title|              0|\n",
      "|tt0000001|       3|Carmencita - span...|    HU|      \\N|imdbDisplay|                  \\N|              0|\n",
      "|tt0000001|       4|          Καρμενσίτα|    GR|      \\N|imdbDisplay|                  \\N|              0|\n",
      "|tt0000001|       5|          Карменсита|    RU|      \\N|imdbDisplay|                  \\N|              0|\n",
      "|tt0000001|       6|          Carmencita|    US|      \\N|imdbDisplay|                  \\N|              0|\n",
      "|tt0000001|       7|          Carmencita|    \\N|      \\N|   original|                  \\N|              1|\n",
      "|tt0000001|       8|      カルメンチータ|    JP|      ja|imdbDisplay|                  \\N|              0|\n",
      "|tt0000002|       1|Le clown et ses c...|    \\N|      \\N|   original|                  \\N|              1|\n",
      "|tt0000002|       2|Le clown et ses c...|    FR|      \\N|imdbDisplay|                  \\N|              0|\n",
      "|tt0000002|       3|   A bohóc és kutyái|    HU|      \\N|imdbDisplay|                  \\N|              0|\n",
      "|tt0000002|       4|Der Clown und sei...|    DE|      \\N|         \\N|       literal title|              0|\n",
      "|tt0000002|       5|Clovnul si cainii...|    RO|      \\N|imdbDisplay|                  \\N|              0|\n",
      "|tt0000002|       6|  Клоун и его собаки|    RU|      \\N|imdbDisplay|                  \\N|              0|\n",
      "|tt0000002|       7|The Clown and His...|    US|      \\N|         \\N|literal English t...|              0|\n",
      "|tt0000002|       8|          道化師と犬|    JP|      ja|imdbDisplay|                  \\N|              0|\n",
      "|tt0000003|       1|    Sarmanul Pierrot|    RO|      \\N|imdbDisplay|                  \\N|              0|\n",
      "|tt0000003|       2|     Szegény Pierrot|    HU|      \\N|imdbDisplay|                  \\N|              0|\n",
      "|tt0000003|       3|        哀れなピエロ|    JP|      ja|imdbDisplay|                  \\N|              0|\n",
      "|tt0000003|       4|        Бідний П'єро|    UA|      \\N|imdbDisplay|                  \\N|              0|\n",
      "+---------+--------+--------------------+------+--------+-----------+--------------------+---------------+\n",
      "only showing top 20 rows\n",
      "\n"
     ]
    }
   ],
   "source": [
    "title_df.show()"
   ]
  },
  {
   "cell_type": "code",
   "execution_count": 65,
   "id": "26dd13ca",
   "metadata": {},
   "outputs": [
    {
     "data": {
      "text/plain": [
       "StructType(List(StructField(titleId,StringType,true),StructField(ordering,IntegerType,true),StructField(title,StringType,true),StructField(region,StringType,true),StructField(language,StringType,true),StructField(types,StringType,true),StructField(attributes,StringType,true),StructField(isOriginalTitle,IntegerType,true)))"
      ]
     },
     "execution_count": 65,
     "metadata": {},
     "output_type": "execute_result"
    }
   ],
   "source": [
    "title_df.schema"
   ]
  },
  {
   "cell_type": "code",
   "execution_count": 8,
   "id": "2a2032f3",
   "metadata": {},
   "outputs": [],
   "source": [
    "title_basics_schema = types.StructType([\n",
    "    types.StructField('tconst',types.StringType(),True),\n",
    "    types.StructField('titleType',types.StringType(),True),\n",
    "    types.StructField('primaryTitle',types.StringType(),True),\n",
    "    types.StructField('originalTitle',types.StringType(),True),\n",
    "    types.StructField('isAdult',types.IntegerType(),True),\n",
    "    types.StructField('startYear',types.IntegerType(),True),\n",
    "    types.StructField('endYear',types.IntegerType(),True),\n",
    "    types.StructField('runtimeMinutes',types.IntegerType(),True),\n",
    "    types.StructField('genres',types.StringType(),True)\n",
    "])"
   ]
  },
  {
   "cell_type": "code",
   "execution_count": 9,
   "id": "74067a5d",
   "metadata": {},
   "outputs": [
    {
     "name": "stderr",
     "output_type": "stream",
     "text": [
      "                                                                                \r"
     ]
    }
   ],
   "source": [
    "title_basics_df = read_data('title.basics', schema=title_basics_schema)"
   ]
  },
  {
   "cell_type": "code",
   "execution_count": 15,
   "id": "730cfe8f",
   "metadata": {},
   "outputs": [
    {
     "data": {
      "text/plain": [
       "'data/title.basics/part-00000-863fca20-65f7-40fe-88ff-a30b17f16c38-c000.snappy.parquet'"
      ]
     },
     "execution_count": 15,
     "metadata": {},
     "output_type": "execute_result"
    }
   ],
   "source": [
    "glob.glob('data/title.basics/*.parquet')[0]"
   ]
  },
  {
   "cell_type": "code",
   "execution_count": 6,
   "id": "c3bcd1f0",
   "metadata": {},
   "outputs": [
    {
     "name": "stderr",
     "output_type": "stream",
     "text": [
      "[Stage 0:>                                                          (0 + 1) / 1]\r"
     ]
    },
    {
     "name": "stdout",
     "output_type": "stream",
     "text": [
      "+---------+---------+--------------------+--------------------+-------+---------+-------+--------------+--------------------+\n",
      "|   tconst|titleType|        primaryTitle|       originalTitle|isAdult|startYear|endYear|runtimeMinutes|              genres|\n",
      "+---------+---------+--------------------+--------------------+-------+---------+-------+--------------+--------------------+\n",
      "|tt0000001|    short|          Carmencita|          Carmencita|      0|     1894|   null|             1|   Documentary,Short|\n",
      "|tt0000002|    short|Le clown et ses c...|Le clown et ses c...|      0|     1892|   null|             5|     Animation,Short|\n",
      "|tt0000003|    short|      Pauvre Pierrot|      Pauvre Pierrot|      0|     1892|   null|             4|Animation,Comedy,...|\n",
      "|tt0000004|    short|         Un bon bock|         Un bon bock|      0|     1892|   null|            12|     Animation,Short|\n",
      "|tt0000005|    short|    Blacksmith Scene|    Blacksmith Scene|      0|     1893|   null|             1|        Comedy,Short|\n",
      "|tt0000006|    short|   Chinese Opium Den|   Chinese Opium Den|      0|     1894|   null|             1|               Short|\n",
      "|tt0000007|    short|Corbett and Court...|Corbett and Court...|      0|     1894|   null|             1|         Short,Sport|\n",
      "|tt0000008|    short|Edison Kinetoscop...|Edison Kinetoscop...|      0|     1894|   null|             1|   Documentary,Short|\n",
      "|tt0000009|    short|          Miss Jerry|          Miss Jerry|      0|     1894|   null|            40|       Romance,Short|\n",
      "|tt0000010|    short| Leaving the Factory|La sortie de l'us...|      0|     1895|   null|             1|   Documentary,Short|\n",
      "|tt0000011|    short|Akrobatisches Pot...|Akrobatisches Pot...|      0|     1895|   null|             1|   Documentary,Short|\n",
      "|tt0000012|    short|The Arrival of a ...|L'arrivée d'un tr...|      0|     1896|   null|             1|   Documentary,Short|\n",
      "|tt0000013|    short|The Photographica...|Le débarquement d...|      0|     1895|   null|             1|   Documentary,Short|\n",
      "|tt0000014|    short| The Waterer Watered|   L'arroseur arrosé|      0|     1895|   null|             1|        Comedy,Short|\n",
      "|tt0000015|    short| Autour d'une cabine| Autour d'une cabine|      0|     1894|   null|             2|     Animation,Short|\n",
      "|tt0000016|    short|Boat Leaving the ...|Barque sortant du...|      0|     1895|   null|             1|   Documentary,Short|\n",
      "|tt0000017|    short|Italienischer Bau...|Italienischer Bau...|      0|     1895|   null|             1|   Documentary,Short|\n",
      "|tt0000018|    short|Das boxende Känguruh|Das boxende Känguruh|      0|     1895|   null|             1|               Short|\n",
      "|tt0000019|    short|    The Clown Barber|    The Clown Barber|      0|     1898|   null|          null|        Comedy,Short|\n",
      "|tt0000020|    short|      The Derby 1895|      The Derby 1895|      0|     1895|   null|             1|Documentary,Short...|\n",
      "+---------+---------+--------------------+--------------------+-------+---------+-------+--------------+--------------------+\n",
      "only showing top 20 rows\n",
      "\n"
     ]
    },
    {
     "name": "stderr",
     "output_type": "stream",
     "text": [
      "                                                                                \r"
     ]
    }
   ],
   "source": [
    "title_basics_df.show()"
   ]
  },
  {
   "cell_type": "code",
   "execution_count": 23,
   "id": "8373cc4b",
   "metadata": {},
   "outputs": [],
   "source": [
    "title_crew_schema = types.StructType([\n",
    "    types.StructField('tconst',types.StringType(),True),\n",
    "    types.StructField('directors',types.StringType(),True),\n",
    "    types.StructField('writers',types.StringType(),True)\n",
    "])"
   ]
  },
  {
   "cell_type": "code",
   "execution_count": 24,
   "id": "1a7949d8",
   "metadata": {},
   "outputs": [
    {
     "name": "stderr",
     "output_type": "stream",
     "text": [
      "22/03/19 02:23:53 WARN SparkContext: The path https://datasets.imdbws.com/title.crew.tsv.gz has been added already. Overwriting of added paths is not supported in the current version.\n",
      "[Stage 15:>                                                         (0 + 1) / 1]\r"
     ]
    },
    {
     "name": "stdout",
     "output_type": "stream",
     "text": [
      "(8778064, 3)\n"
     ]
    },
    {
     "name": "stderr",
     "output_type": "stream",
     "text": [
      "                                                                                \r"
     ]
    }
   ],
   "source": [
    "title_crew_df = read_data('title.crew', schema=title_crew_schema)"
   ]
  },
  {
   "cell_type": "code",
   "execution_count": 25,
   "id": "d38b6802",
   "metadata": {},
   "outputs": [
    {
     "name": "stdout",
     "output_type": "stream",
     "text": [
      "+---------+-------------------+---------+\n",
      "|   tconst|          directors|  writers|\n",
      "+---------+-------------------+---------+\n",
      "|tt0000001|          nm0005690|       \\N|\n",
      "|tt0000002|          nm0721526|       \\N|\n",
      "|tt0000003|          nm0721526|       \\N|\n",
      "|tt0000004|          nm0721526|       \\N|\n",
      "|tt0000005|          nm0005690|       \\N|\n",
      "|tt0000006|          nm0005690|       \\N|\n",
      "|tt0000007|nm0005690,nm0374658|       \\N|\n",
      "|tt0000008|          nm0005690|       \\N|\n",
      "|tt0000009|          nm0085156|nm0085156|\n",
      "|tt0000010|          nm0525910|       \\N|\n",
      "|tt0000011|          nm0804434|       \\N|\n",
      "|tt0000012|nm0525910,nm0525908|       \\N|\n",
      "|tt0000013|          nm0525910|       \\N|\n",
      "|tt0000014|          nm0525910|       \\N|\n",
      "|tt0000015|          nm0721526|       \\N|\n",
      "|tt0000016|          nm0525910|       \\N|\n",
      "|tt0000017|nm1587194,nm0804434|       \\N|\n",
      "|tt0000018|          nm0804434|       \\N|\n",
      "|tt0000019|          nm0932055|       \\N|\n",
      "|tt0000020|          nm0010291|       \\N|\n",
      "+---------+-------------------+---------+\n",
      "only showing top 20 rows\n",
      "\n"
     ]
    }
   ],
   "source": [
    "title_crew_df.show()"
   ]
  },
  {
   "cell_type": "code",
   "execution_count": 26,
   "id": "2e6a6d44",
   "metadata": {},
   "outputs": [
    {
     "name": "stdout",
     "output_type": "stream",
     "text": [
      "root\n",
      " |-- tconst: string (nullable = true)\n",
      " |-- directors: string (nullable = true)\n",
      " |-- writers: string (nullable = true)\n",
      "\n"
     ]
    }
   ],
   "source": [
    "title_crew_df.printSchema()"
   ]
  },
  {
   "cell_type": "code",
   "execution_count": 11,
   "id": "2abb86c0",
   "metadata": {},
   "outputs": [],
   "source": [
    "title_episode_schema = types.StructType([\n",
    "    types.StructField('tconst',types.StringType(),True),\n",
    "    types.StructField('parentTconst',types.StringType(),True),\n",
    "    types.StructField('seasonNumber',types.IntegerType(),True),\n",
    "    types.StructField('episodeNumber',types.IntegerType(),True)\n",
    "])"
   ]
  },
  {
   "cell_type": "code",
   "execution_count": 12,
   "id": "d85ecc4d",
   "metadata": {},
   "outputs": [],
   "source": [
    "pth = 'title.episode/'"
   ]
  },
  {
   "cell_type": "code",
   "execution_count": 15,
   "id": "f5d45baa",
   "metadata": {
    "scrolled": true
   },
   "outputs": [
    {
     "name": "stderr",
     "output_type": "stream",
     "text": [
      "22/03/19 13:49:40 WARN SparkContext: The path https://datasets.imdbws.com/title.episode.tsv.gz has been added already. Overwriting of added paths is not supported in the current version.\n",
      "                                                                                \r"
     ]
    }
   ],
   "source": [
    "read_data('title.episode', dest_file=pth, schema=title_episode_schema)"
   ]
  },
  {
   "cell_type": "code",
   "execution_count": 32,
   "id": "259df7ea",
   "metadata": {},
   "outputs": [
    {
     "name": "stdout",
     "output_type": "stream",
     "text": [
      "+---------+------------+------------+-------------+\n",
      "|   tconst|parentTconst|seasonNumber|episodeNumber|\n",
      "+---------+------------+------------+-------------+\n",
      "|tt0020666|  tt15180956|           1|            2|\n",
      "|tt0020829|  tt15180956|           1|            1|\n",
      "|tt0021166|  tt15180956|           1|            3|\n",
      "|tt0021612|  tt15180956|           2|            2|\n",
      "+---------+------------+------------+-------------+\n",
      "only showing top 4 rows\n",
      "\n"
     ]
    }
   ],
   "source": [
    "title_episode_df.show(4)"
   ]
  },
  {
   "cell_type": "code",
   "execution_count": 33,
   "id": "4898f395",
   "metadata": {},
   "outputs": [
    {
     "name": "stdout",
     "output_type": "stream",
     "text": [
      "root\n",
      " |-- tconst: string (nullable = true)\n",
      " |-- parentTconst: string (nullable = true)\n",
      " |-- seasonNumber: integer (nullable = true)\n",
      " |-- episodeNumber: integer (nullable = true)\n",
      "\n"
     ]
    }
   ],
   "source": [
    "title_episode_df.printSchema()"
   ]
  },
  {
   "cell_type": "code",
   "execution_count": 43,
   "id": "75581bc5",
   "metadata": {},
   "outputs": [],
   "source": [
    "title_principals_schema = types.StructType([\n",
    "    types.StructField('tconst',types.StringType(),True),\n",
    "    types.StructField('ordering',types.IntegerType(),True),\n",
    "    types.StructField('nconst',types.StringType(),True),\n",
    "    types.StructField('category',types.StringType(),True),\n",
    "    types.StructField('job',types.StringType(),True),\n",
    "    types.StructField('characters',types.StringType(),True)\n",
    "])"
   ]
  },
  {
   "cell_type": "code",
   "execution_count": 44,
   "id": "9a047297",
   "metadata": {},
   "outputs": [
    {
     "name": "stderr",
     "output_type": "stream",
     "text": [
      "22/03/19 02:39:11 WARN SparkContext: The path https://datasets.imdbws.com/title.principals.tsv.gz has been added already. Overwriting of added paths is not supported in the current version.\n",
      "[Stage 29:>                                                         (0 + 1) / 1]\r"
     ]
    },
    {
     "name": "stdout",
     "output_type": "stream",
     "text": [
      "(49414516, 6)\n"
     ]
    },
    {
     "name": "stderr",
     "output_type": "stream",
     "text": [
      "                                                                                \r"
     ]
    }
   ],
   "source": [
    "title_principals_df = read_data('title.principals', schema=title_principals_schema)"
   ]
  },
  {
   "cell_type": "code",
   "execution_count": 45,
   "id": "032a0d82",
   "metadata": {},
   "outputs": [
    {
     "name": "stdout",
     "output_type": "stream",
     "text": [
      "+---------+--------+---------+---------------+--------------------+----------+\n",
      "|   tconst|ordering|   nconst|       category|                 job|characters|\n",
      "+---------+--------+---------+---------------+--------------------+----------+\n",
      "|tt0000001|       1|nm1588970|           self|                  \\N|  [\"Self\"]|\n",
      "|tt0000001|       2|nm0005690|       director|                  \\N|        \\N|\n",
      "|tt0000001|       3|nm0374658|cinematographer|director of photo...|        \\N|\n",
      "|tt0000002|       1|nm0721526|       director|                  \\N|        \\N|\n",
      "+---------+--------+---------+---------------+--------------------+----------+\n",
      "only showing top 4 rows\n",
      "\n"
     ]
    }
   ],
   "source": [
    "title_principals_df.show(4)"
   ]
  },
  {
   "cell_type": "code",
   "execution_count": 46,
   "id": "c105e315",
   "metadata": {},
   "outputs": [
    {
     "name": "stdout",
     "output_type": "stream",
     "text": [
      "root\n",
      " |-- tconst: string (nullable = true)\n",
      " |-- ordering: integer (nullable = true)\n",
      " |-- nconst: string (nullable = true)\n",
      " |-- category: string (nullable = true)\n",
      " |-- job: string (nullable = true)\n",
      " |-- characters: string (nullable = true)\n",
      "\n"
     ]
    }
   ],
   "source": [
    "title_principals_df.printSchema()"
   ]
  },
  {
   "cell_type": "code",
   "execution_count": 4,
   "id": "cd524919",
   "metadata": {},
   "outputs": [],
   "source": [
    "title_rating_schema = types.StructType([\n",
    "    types.StructField('tconst',types.StringType(),True),\n",
    "    types.StructField('averageRating',types.DoubleType(),True),\n",
    "    types.StructField('numVotes',types.IntegerType(),True)\n",
    "])"
   ]
  },
  {
   "cell_type": "code",
   "execution_count": 5,
   "id": "0ec72063",
   "metadata": {},
   "outputs": [
    {
     "name": "stderr",
     "output_type": "stream",
     "text": [
      "[Stage 0:>                                                          (0 + 1) / 1]\r"
     ]
    },
    {
     "name": "stdout",
     "output_type": "stream",
     "text": [
      "(1225773, 3)\n"
     ]
    },
    {
     "name": "stderr",
     "output_type": "stream",
     "text": [
      "                                                                                \r"
     ]
    }
   ],
   "source": [
    "title_ratings_df = read_data('title.ratings', schema=title_rating_schema)"
   ]
  },
  {
   "cell_type": "code",
   "execution_count": 6,
   "id": "d801b575",
   "metadata": {},
   "outputs": [
    {
     "name": "stdout",
     "output_type": "stream",
     "text": [
      "+---------+-------------+--------+\n",
      "|   tconst|averageRating|numVotes|\n",
      "+---------+-------------+--------+\n",
      "|tt0000001|          5.7|    1868|\n",
      "|tt0000002|          5.9|     247|\n",
      "|tt0000003|          6.5|    1639|\n",
      "|tt0000004|          5.8|     159|\n",
      "|tt0000005|          6.2|    2463|\n",
      "+---------+-------------+--------+\n",
      "only showing top 5 rows\n",
      "\n"
     ]
    }
   ],
   "source": [
    "title_ratings_df.show(5)"
   ]
  },
  {
   "cell_type": "code",
   "execution_count": 7,
   "id": "c6e2b146",
   "metadata": {},
   "outputs": [
    {
     "name": "stdout",
     "output_type": "stream",
     "text": [
      "root\n",
      " |-- tconst: string (nullable = true)\n",
      " |-- averageRating: double (nullable = true)\n",
      " |-- numVotes: integer (nullable = true)\n",
      "\n"
     ]
    }
   ],
   "source": [
    "title_ratings_df.printSchema()"
   ]
  },
  {
   "cell_type": "code",
   "execution_count": 10,
   "id": "4fa9db30",
   "metadata": {},
   "outputs": [
    {
     "name": "stderr",
     "output_type": "stream",
     "text": [
      "                                                                                \r"
     ]
    },
    {
     "data": {
      "text/plain": [
       "8778064"
      ]
     },
     "execution_count": 10,
     "metadata": {},
     "output_type": "execute_result"
    }
   ],
   "source": [
    "print(title_basics_df.count(), len(title_basics_df.columns()))"
   ]
  },
  {
   "cell_type": "code",
   "execution_count": 3,
   "id": "4d2b371c",
   "metadata": {},
   "outputs": [],
   "source": [
    "spark.sparkContext.addFile('https://datasets.imdbws.com/name.basics.tsv.gz')"
   ]
  },
  {
   "cell_type": "code",
   "execution_count": 10,
   "id": "43b784b4",
   "metadata": {},
   "outputs": [],
   "source": [
    "name_schema = types.StructType([\n",
    "    types.StructField('nconst',types.StringType(), True),\n",
    "    types.StructField('primaryName',types.StringType(),True),\n",
    "    types.StructField('birthYear',types.IntegerType(),True),\n",
    "    types.StructField('deathYear',types.IntegerType(),True),\n",
    "    types.StructField('primaryProfession',types.StringType(),True),\n",
    "    types.StructField('knownForTitles',types.StringType(),True)\n",
    "])"
   ]
  },
  {
   "cell_type": "code",
   "execution_count": 42,
   "id": "c3a94afd",
   "metadata": {},
   "outputs": [],
   "source": [
    "df_1 = spark.read\\\n",
    "        .option(\"header\", \"true\")\\\n",
    "        .csv('file://'+pyspark.SparkFiles.get('title.akas.tsv.gz'), sep='\\t')"
   ]
  },
  {
   "cell_type": "code",
   "execution_count": 43,
   "id": "c39041d0",
   "metadata": {},
   "outputs": [
    {
     "data": {
      "text/plain": [
       "StructType(List(StructField(titleId,StringType,true),StructField(ordering,StringType,true),StructField(title,StringType,true),StructField(region,StringType,true),StructField(language,StringType,true),StructField(types,StringType,true),StructField(attributes,StringType,true),StructField(isOriginalTitle,StringType,true)))"
      ]
     },
     "execution_count": 43,
     "metadata": {},
     "output_type": "execute_result"
    }
   ],
   "source": [
    "df_1.schema"
   ]
  },
  {
   "cell_type": "code",
   "execution_count": 44,
   "id": "f20625af",
   "metadata": {},
   "outputs": [
    {
     "name": "stdout",
     "output_type": "stream",
     "text": [
      "+---------+--------+--------------------+------+--------+-----------+--------------------+---------------+\n",
      "|  titleId|ordering|               title|region|language|      types|          attributes|isOriginalTitle|\n",
      "+---------+--------+--------------------+------+--------+-----------+--------------------+---------------+\n",
      "|tt0000001|       1|          Карменсіта|    UA|      \\N|imdbDisplay|                  \\N|              0|\n",
      "|tt0000001|       2|          Carmencita|    DE|      \\N|         \\N|       literal title|              0|\n",
      "|tt0000001|       3|Carmencita - span...|    HU|      \\N|imdbDisplay|                  \\N|              0|\n",
      "|tt0000001|       4|          Καρμενσίτα|    GR|      \\N|imdbDisplay|                  \\N|              0|\n",
      "|tt0000001|       5|          Карменсита|    RU|      \\N|imdbDisplay|                  \\N|              0|\n",
      "|tt0000001|       6|          Carmencita|    US|      \\N|imdbDisplay|                  \\N|              0|\n",
      "|tt0000001|       7|          Carmencita|    \\N|      \\N|   original|                  \\N|              1|\n",
      "|tt0000001|       8|      カルメンチータ|    JP|      ja|imdbDisplay|                  \\N|              0|\n",
      "|tt0000002|       1|Le clown et ses c...|    \\N|      \\N|   original|                  \\N|              1|\n",
      "|tt0000002|       2|Le clown et ses c...|    FR|      \\N|imdbDisplay|                  \\N|              0|\n",
      "|tt0000002|       3|   A bohóc és kutyái|    HU|      \\N|imdbDisplay|                  \\N|              0|\n",
      "|tt0000002|       4|Der Clown und sei...|    DE|      \\N|         \\N|       literal title|              0|\n",
      "|tt0000002|       5|Clovnul si cainii...|    RO|      \\N|imdbDisplay|                  \\N|              0|\n",
      "|tt0000002|       6|  Клоун и его собаки|    RU|      \\N|imdbDisplay|                  \\N|              0|\n",
      "|tt0000002|       7|The Clown and His...|    US|      \\N|         \\N|literal English t...|              0|\n",
      "|tt0000002|       8|          道化師と犬|    JP|      ja|imdbDisplay|                  \\N|              0|\n",
      "|tt0000003|       1|    Sarmanul Pierrot|    RO|      \\N|imdbDisplay|                  \\N|              0|\n",
      "|tt0000003|       2|     Szegény Pierrot|    HU|      \\N|imdbDisplay|                  \\N|              0|\n",
      "|tt0000003|       3|        哀れなピエロ|    JP|      ja|imdbDisplay|                  \\N|              0|\n",
      "|tt0000003|       4|        Бідний П'єро|    UA|      \\N|imdbDisplay|                  \\N|              0|\n",
      "+---------+--------+--------------------+------+--------+-----------+--------------------+---------------+\n",
      "only showing top 20 rows\n",
      "\n"
     ]
    }
   ],
   "source": [
    "df_1.show()"
   ]
  },
  {
   "cell_type": "code",
   "execution_count": 5,
   "id": "8d5778cc",
   "metadata": {},
   "outputs": [
    {
     "data": {
      "text/plain": [
       "StructType(List(StructField(nconst,StringType,true),StructField(primaryName,StringType,true),StructField(birthYear,StringType,true),StructField(deathYear,StringType,true),StructField(primaryProfession,StringType,true),StructField(knownForTitles,StringType,true)))"
      ]
     },
     "execution_count": 5,
     "metadata": {},
     "output_type": "execute_result"
    }
   ],
   "source": [
    "df_1.schema"
   ]
  },
  {
   "cell_type": "code",
   "execution_count": 16,
   "id": "32a20ffd",
   "metadata": {},
   "outputs": [],
   "source": [
    "name_pth = f'data/name/'"
   ]
  },
  {
   "cell_type": "code",
   "execution_count": 26,
   "id": "c655b9f5",
   "metadata": {
    "scrolled": true
   },
   "outputs": [
    {
     "name": "stderr",
     "output_type": "stream",
     "text": [
      "                                                                                \r"
     ]
    }
   ],
   "source": [
    "df_1.repartition(7)\\\n",
    "    .write.parquet(name_pth, mode='overwrite')"
   ]
  },
  {
   "cell_type": "code",
   "execution_count": 5,
   "id": "fc42c230",
   "metadata": {},
   "outputs": [],
   "source": [
    "name_basics_schema = types.StructType([\n",
    "    types.StructField('nconst',types.StringType(),True),\n",
    "    types.StructField('primaryName',types.StringType(),True),\n",
    "    types.StructField('birthYear',types.IntegerType(),True),\n",
    "    types.StructField('deathYear',types.IntegerType(),True),\n",
    "    types.StructField('primaryProfession',types.StringType(),True),\n",
    "    types.StructField('knownForTitles',types.StringType(),True)\n",
    "])"
   ]
  },
  {
   "cell_type": "code",
   "execution_count": 27,
   "id": "48f4d3d6",
   "metadata": {},
   "outputs": [
    {
     "name": "stdout",
     "output_type": "stream",
     "text": [
      "total 379M\n",
      "-rw-r--r-- 1 oseghalepatrick53 oseghalepatrick53   0 Mar 19 01:19 _SUCCESS\n",
      "-rw-r--r-- 1 oseghalepatrick53 oseghalepatrick53 55M Mar 19 01:19 part-00000-84fbbced-7ae2-42d0-a241-25b9a0bdeb8b-c000.snappy.parquet\n",
      "-rw-r--r-- 1 oseghalepatrick53 oseghalepatrick53 55M Mar 19 01:19 part-00001-84fbbced-7ae2-42d0-a241-25b9a0bdeb8b-c000.snappy.parquet\n",
      "-rw-r--r-- 1 oseghalepatrick53 oseghalepatrick53 55M Mar 19 01:19 part-00002-84fbbced-7ae2-42d0-a241-25b9a0bdeb8b-c000.snappy.parquet\n",
      "-rw-r--r-- 1 oseghalepatrick53 oseghalepatrick53 55M Mar 19 01:19 part-00003-84fbbced-7ae2-42d0-a241-25b9a0bdeb8b-c000.snappy.parquet\n",
      "-rw-r--r-- 1 oseghalepatrick53 oseghalepatrick53 55M Mar 19 01:19 part-00004-84fbbced-7ae2-42d0-a241-25b9a0bdeb8b-c000.snappy.parquet\n",
      "-rw-r--r-- 1 oseghalepatrick53 oseghalepatrick53 55M Mar 19 01:19 part-00005-84fbbced-7ae2-42d0-a241-25b9a0bdeb8b-c000.snappy.parquet\n",
      "-rw-r--r-- 1 oseghalepatrick53 oseghalepatrick53 55M Mar 19 01:19 part-00006-84fbbced-7ae2-42d0-a241-25b9a0bdeb8b-c000.snappy.parquet\n"
     ]
    }
   ],
   "source": [
    "!ls -lh 'data/name'"
   ]
  },
  {
   "cell_type": "code",
   "execution_count": null,
   "id": "deb0ae1e",
   "metadata": {},
   "outputs": [],
   "source": []
  }
 ],
 "metadata": {
  "kernelspec": {
   "display_name": "Python 3 (ipykernel)",
   "language": "python",
   "name": "python3"
  },
  "language_info": {
   "codemirror_mode": {
    "name": "ipython",
    "version": 3
   },
   "file_extension": ".py",
   "mimetype": "text/x-python",
   "name": "python",
   "nbconvert_exporter": "python",
   "pygments_lexer": "ipython3",
   "version": "3.9.7"
  }
 },
 "nbformat": 4,
 "nbformat_minor": 5
}
